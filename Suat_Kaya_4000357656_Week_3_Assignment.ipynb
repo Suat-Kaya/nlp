{
  "nbformat": 4,
  "nbformat_minor": 0,
  "metadata": {
    "colab": {
      "provenance": [],
      "authorship_tag": "ABX9TyNgaTCh7LYUevI8I3NOT5PQ",
      "include_colab_link": true
    },
    "kernelspec": {
      "name": "python3",
      "display_name": "Python 3"
    },
    "language_info": {
      "name": "python"
    }
  },
  "cells": [
    {
      "cell_type": "markdown",
      "metadata": {
        "id": "view-in-github",
        "colab_type": "text"
      },
      "source": [
        "<a href=\"https://colab.research.google.com/github/Suat-Kaya/nlp/blob/Week-3-Assignment/Suat_Kaya_4000357656_Week_3_Assignment.ipynb\" target=\"_parent\"><img src=\"https://colab.research.google.com/assets/colab-badge.svg\" alt=\"Open In Colab\"/></a>"
      ]
    },
    {
      "cell_type": "code",
      "execution_count": null,
      "metadata": {
        "colab": {
          "base_uri": "https://localhost:8080/"
        },
        "id": "OypzFjSFQ9Wi",
        "outputId": "edfcc915-7ea6-4716-e023-cdc218a87624"
      },
      "outputs": [
        {
          "output_type": "stream",
          "name": "stderr",
          "text": [
            "[nltk_data] Downloading package stopwords to /root/nltk_data...\n",
            "[nltk_data]   Package stopwords is already up-to-date!\n"
          ]
        },
        {
          "output_type": "execute_result",
          "data": {
            "text/plain": [
              "True"
            ]
          },
          "metadata": {},
          "execution_count": 33
        }
      ],
      "source": [
        "import pandas as pd\n",
        "import string\n",
        "import nltk\n",
        "from nltk.corpus import stopwords\n",
        "nltk.download('stopwords') # Download the stopwords dataset (necessary in Colab)\n"
      ]
    },
    {
      "cell_type": "markdown",
      "source": [
        "The Data I selected is from kaggle.com and it is **Amazon Product Reviews Dataset**\n",
        "\n",
        "**Here's a summary of the dataset:**\n",
        "\n",
        "Number of Records: The dataset contains 1,597 records.\n",
        "\n",
        "Review Examples:\n",
        "\n",
        "0. \"I initially had trouble deciding between the Paperwhite and Voyage...\"\n",
        "1. \"Allow me to preface this with a little history, as a casual reader...\"\n",
        "2. \"I am enjoying it so far. Great for reading...\"\n",
        "3. \"I bought one of the first Paperwhites and have been pleased...\"\n",
        "4. \"I have to say upfront - I don't like corporate policies...\"\n",
        "\n",
        "\n",
        "**Breakdown of Positive/Negative Examples:**\n",
        "\n",
        "Positive Reviews (ratings 4 or above): 977.\n",
        "Negative Reviews (ratings below 4): 200.\n"
      ],
      "metadata": {
        "id": "V5kM8AfdROyp"
      }
    },
    {
      "cell_type": "code",
      "source": [
        "file_path = '7817_1.csv' # Load dataset\n",
        "reviews_df = pd.read_csv(file_path)\n",
        "reviews_df.head() # Checking the data"
      ],
      "metadata": {
        "colab": {
          "base_uri": "https://localhost:8080/",
          "height": 533
        },
        "id": "49FInD2IReCk",
        "outputId": "00816e05-6cd6-495a-a947-db0cb5b2c83b"
      },
      "execution_count": null,
      "outputs": [
        {
          "output_type": "execute_result",
          "data": {
            "text/plain": [
              "                     id       asins   brand                  categories  \\\n",
              "0  AVpe7AsMilAPnD_xQ78G  B00QJDU3KY  Amazon  Amazon Devices,mazon.co.uk   \n",
              "1  AVpe7AsMilAPnD_xQ78G  B00QJDU3KY  Amazon  Amazon Devices,mazon.co.uk   \n",
              "2  AVpe7AsMilAPnD_xQ78G  B00QJDU3KY  Amazon  Amazon Devices,mazon.co.uk   \n",
              "3  AVpe7AsMilAPnD_xQ78G  B00QJDU3KY  Amazon  Amazon Devices,mazon.co.uk   \n",
              "4  AVpe7AsMilAPnD_xQ78G  B00QJDU3KY  Amazon  Amazon Devices,mazon.co.uk   \n",
              "\n",
              "  colors             dateAdded           dateUpdated  \\\n",
              "0    NaN  2016-03-08T20:21:53Z  2017-07-18T23:52:58Z   \n",
              "1    NaN  2016-03-08T20:21:53Z  2017-07-18T23:52:58Z   \n",
              "2    NaN  2016-03-08T20:21:53Z  2017-07-18T23:52:58Z   \n",
              "3    NaN  2016-03-08T20:21:53Z  2017-07-18T23:52:58Z   \n",
              "4    NaN  2016-03-08T20:21:53Z  2017-07-18T23:52:58Z   \n",
              "\n",
              "                  dimension  ean                         keys  ...  \\\n",
              "0  169 mm x 117 mm x 9.1 mm  NaN  kindlepaperwhite/b00qjdu3ky  ...   \n",
              "1  169 mm x 117 mm x 9.1 mm  NaN  kindlepaperwhite/b00qjdu3ky  ...   \n",
              "2  169 mm x 117 mm x 9.1 mm  NaN  kindlepaperwhite/b00qjdu3ky  ...   \n",
              "3  169 mm x 117 mm x 9.1 mm  NaN  kindlepaperwhite/b00qjdu3ky  ...   \n",
              "4  169 mm x 117 mm x 9.1 mm  NaN  kindlepaperwhite/b00qjdu3ky  ...   \n",
              "\n",
              "  reviews.rating                                 reviews.sourceURLs  \\\n",
              "0            5.0  https://www.amazon.com/Kindle-Paperwhite-High-...   \n",
              "1            5.0  https://www.amazon.com/Kindle-Paperwhite-High-...   \n",
              "2            4.0  https://www.amazon.com/Kindle-Paperwhite-High-...   \n",
              "3            5.0  https://www.amazon.com/Kindle-Paperwhite-High-...   \n",
              "4            5.0  https://www.amazon.com/Kindle-Paperwhite-High-...   \n",
              "\n",
              "                                        reviews.text  \\\n",
              "0  I initially had trouble deciding between the p...   \n",
              "1  Allow me to preface this with a little history...   \n",
              "2  I am enjoying it so far. Great for reading. Ha...   \n",
              "3  I bought one of the first Paperwhites and have...   \n",
              "4  I have to say upfront - I don't like coroporat...   \n",
              "\n",
              "                                reviews.title reviews.userCity  \\\n",
              "0              Paperwhite voyage, no regrets!              NaN   \n",
              "1           One Simply Could Not Ask For More              NaN   \n",
              "2  Great for those that just want an e-reader              NaN   \n",
              "3                    Love / Hate relationship              NaN   \n",
              "4                                   I LOVE IT              NaN   \n",
              "\n",
              "  reviews.userProvince    reviews.username  sizes upc     weight  \n",
              "0                  NaN          Cristina M    NaN NaN  205 grams  \n",
              "1                  NaN               Ricky    NaN NaN  205 grams  \n",
              "2                  NaN       Tedd Gardiner    NaN NaN  205 grams  \n",
              "3                  NaN              Dougal    NaN NaN  205 grams  \n",
              "4                  NaN  Miljan David Tanic    NaN NaN  205 grams  \n",
              "\n",
              "[5 rows x 27 columns]"
            ],
            "text/html": [
              "\n",
              "  <div id=\"df-31453542-4b28-4803-8dcc-c355da42680e\" class=\"colab-df-container\">\n",
              "    <div>\n",
              "<style scoped>\n",
              "    .dataframe tbody tr th:only-of-type {\n",
              "        vertical-align: middle;\n",
              "    }\n",
              "\n",
              "    .dataframe tbody tr th {\n",
              "        vertical-align: top;\n",
              "    }\n",
              "\n",
              "    .dataframe thead th {\n",
              "        text-align: right;\n",
              "    }\n",
              "</style>\n",
              "<table border=\"1\" class=\"dataframe\">\n",
              "  <thead>\n",
              "    <tr style=\"text-align: right;\">\n",
              "      <th></th>\n",
              "      <th>id</th>\n",
              "      <th>asins</th>\n",
              "      <th>brand</th>\n",
              "      <th>categories</th>\n",
              "      <th>colors</th>\n",
              "      <th>dateAdded</th>\n",
              "      <th>dateUpdated</th>\n",
              "      <th>dimension</th>\n",
              "      <th>ean</th>\n",
              "      <th>keys</th>\n",
              "      <th>...</th>\n",
              "      <th>reviews.rating</th>\n",
              "      <th>reviews.sourceURLs</th>\n",
              "      <th>reviews.text</th>\n",
              "      <th>reviews.title</th>\n",
              "      <th>reviews.userCity</th>\n",
              "      <th>reviews.userProvince</th>\n",
              "      <th>reviews.username</th>\n",
              "      <th>sizes</th>\n",
              "      <th>upc</th>\n",
              "      <th>weight</th>\n",
              "    </tr>\n",
              "  </thead>\n",
              "  <tbody>\n",
              "    <tr>\n",
              "      <th>0</th>\n",
              "      <td>AVpe7AsMilAPnD_xQ78G</td>\n",
              "      <td>B00QJDU3KY</td>\n",
              "      <td>Amazon</td>\n",
              "      <td>Amazon Devices,mazon.co.uk</td>\n",
              "      <td>NaN</td>\n",
              "      <td>2016-03-08T20:21:53Z</td>\n",
              "      <td>2017-07-18T23:52:58Z</td>\n",
              "      <td>169 mm x 117 mm x 9.1 mm</td>\n",
              "      <td>NaN</td>\n",
              "      <td>kindlepaperwhite/b00qjdu3ky</td>\n",
              "      <td>...</td>\n",
              "      <td>5.0</td>\n",
              "      <td>https://www.amazon.com/Kindle-Paperwhite-High-...</td>\n",
              "      <td>I initially had trouble deciding between the p...</td>\n",
              "      <td>Paperwhite voyage, no regrets!</td>\n",
              "      <td>NaN</td>\n",
              "      <td>NaN</td>\n",
              "      <td>Cristina M</td>\n",
              "      <td>NaN</td>\n",
              "      <td>NaN</td>\n",
              "      <td>205 grams</td>\n",
              "    </tr>\n",
              "    <tr>\n",
              "      <th>1</th>\n",
              "      <td>AVpe7AsMilAPnD_xQ78G</td>\n",
              "      <td>B00QJDU3KY</td>\n",
              "      <td>Amazon</td>\n",
              "      <td>Amazon Devices,mazon.co.uk</td>\n",
              "      <td>NaN</td>\n",
              "      <td>2016-03-08T20:21:53Z</td>\n",
              "      <td>2017-07-18T23:52:58Z</td>\n",
              "      <td>169 mm x 117 mm x 9.1 mm</td>\n",
              "      <td>NaN</td>\n",
              "      <td>kindlepaperwhite/b00qjdu3ky</td>\n",
              "      <td>...</td>\n",
              "      <td>5.0</td>\n",
              "      <td>https://www.amazon.com/Kindle-Paperwhite-High-...</td>\n",
              "      <td>Allow me to preface this with a little history...</td>\n",
              "      <td>One Simply Could Not Ask For More</td>\n",
              "      <td>NaN</td>\n",
              "      <td>NaN</td>\n",
              "      <td>Ricky</td>\n",
              "      <td>NaN</td>\n",
              "      <td>NaN</td>\n",
              "      <td>205 grams</td>\n",
              "    </tr>\n",
              "    <tr>\n",
              "      <th>2</th>\n",
              "      <td>AVpe7AsMilAPnD_xQ78G</td>\n",
              "      <td>B00QJDU3KY</td>\n",
              "      <td>Amazon</td>\n",
              "      <td>Amazon Devices,mazon.co.uk</td>\n",
              "      <td>NaN</td>\n",
              "      <td>2016-03-08T20:21:53Z</td>\n",
              "      <td>2017-07-18T23:52:58Z</td>\n",
              "      <td>169 mm x 117 mm x 9.1 mm</td>\n",
              "      <td>NaN</td>\n",
              "      <td>kindlepaperwhite/b00qjdu3ky</td>\n",
              "      <td>...</td>\n",
              "      <td>4.0</td>\n",
              "      <td>https://www.amazon.com/Kindle-Paperwhite-High-...</td>\n",
              "      <td>I am enjoying it so far. Great for reading. Ha...</td>\n",
              "      <td>Great for those that just want an e-reader</td>\n",
              "      <td>NaN</td>\n",
              "      <td>NaN</td>\n",
              "      <td>Tedd Gardiner</td>\n",
              "      <td>NaN</td>\n",
              "      <td>NaN</td>\n",
              "      <td>205 grams</td>\n",
              "    </tr>\n",
              "    <tr>\n",
              "      <th>3</th>\n",
              "      <td>AVpe7AsMilAPnD_xQ78G</td>\n",
              "      <td>B00QJDU3KY</td>\n",
              "      <td>Amazon</td>\n",
              "      <td>Amazon Devices,mazon.co.uk</td>\n",
              "      <td>NaN</td>\n",
              "      <td>2016-03-08T20:21:53Z</td>\n",
              "      <td>2017-07-18T23:52:58Z</td>\n",
              "      <td>169 mm x 117 mm x 9.1 mm</td>\n",
              "      <td>NaN</td>\n",
              "      <td>kindlepaperwhite/b00qjdu3ky</td>\n",
              "      <td>...</td>\n",
              "      <td>5.0</td>\n",
              "      <td>https://www.amazon.com/Kindle-Paperwhite-High-...</td>\n",
              "      <td>I bought one of the first Paperwhites and have...</td>\n",
              "      <td>Love / Hate relationship</td>\n",
              "      <td>NaN</td>\n",
              "      <td>NaN</td>\n",
              "      <td>Dougal</td>\n",
              "      <td>NaN</td>\n",
              "      <td>NaN</td>\n",
              "      <td>205 grams</td>\n",
              "    </tr>\n",
              "    <tr>\n",
              "      <th>4</th>\n",
              "      <td>AVpe7AsMilAPnD_xQ78G</td>\n",
              "      <td>B00QJDU3KY</td>\n",
              "      <td>Amazon</td>\n",
              "      <td>Amazon Devices,mazon.co.uk</td>\n",
              "      <td>NaN</td>\n",
              "      <td>2016-03-08T20:21:53Z</td>\n",
              "      <td>2017-07-18T23:52:58Z</td>\n",
              "      <td>169 mm x 117 mm x 9.1 mm</td>\n",
              "      <td>NaN</td>\n",
              "      <td>kindlepaperwhite/b00qjdu3ky</td>\n",
              "      <td>...</td>\n",
              "      <td>5.0</td>\n",
              "      <td>https://www.amazon.com/Kindle-Paperwhite-High-...</td>\n",
              "      <td>I have to say upfront - I don't like coroporat...</td>\n",
              "      <td>I LOVE IT</td>\n",
              "      <td>NaN</td>\n",
              "      <td>NaN</td>\n",
              "      <td>Miljan David Tanic</td>\n",
              "      <td>NaN</td>\n",
              "      <td>NaN</td>\n",
              "      <td>205 grams</td>\n",
              "    </tr>\n",
              "  </tbody>\n",
              "</table>\n",
              "<p>5 rows × 27 columns</p>\n",
              "</div>\n",
              "    <div class=\"colab-df-buttons\">\n",
              "\n",
              "  <div class=\"colab-df-container\">\n",
              "    <button class=\"colab-df-convert\" onclick=\"convertToInteractive('df-31453542-4b28-4803-8dcc-c355da42680e')\"\n",
              "            title=\"Convert this dataframe to an interactive table.\"\n",
              "            style=\"display:none;\">\n",
              "\n",
              "  <svg xmlns=\"http://www.w3.org/2000/svg\" height=\"24px\" viewBox=\"0 -960 960 960\">\n",
              "    <path d=\"M120-120v-720h720v720H120Zm60-500h600v-160H180v160Zm220 220h160v-160H400v160Zm0 220h160v-160H400v160ZM180-400h160v-160H180v160Zm440 0h160v-160H620v160ZM180-180h160v-160H180v160Zm440 0h160v-160H620v160Z\"/>\n",
              "  </svg>\n",
              "    </button>\n",
              "\n",
              "  <style>\n",
              "    .colab-df-container {\n",
              "      display:flex;\n",
              "      gap: 12px;\n",
              "    }\n",
              "\n",
              "    .colab-df-convert {\n",
              "      background-color: #E8F0FE;\n",
              "      border: none;\n",
              "      border-radius: 50%;\n",
              "      cursor: pointer;\n",
              "      display: none;\n",
              "      fill: #1967D2;\n",
              "      height: 32px;\n",
              "      padding: 0 0 0 0;\n",
              "      width: 32px;\n",
              "    }\n",
              "\n",
              "    .colab-df-convert:hover {\n",
              "      background-color: #E2EBFA;\n",
              "      box-shadow: 0px 1px 2px rgba(60, 64, 67, 0.3), 0px 1px 3px 1px rgba(60, 64, 67, 0.15);\n",
              "      fill: #174EA6;\n",
              "    }\n",
              "\n",
              "    .colab-df-buttons div {\n",
              "      margin-bottom: 4px;\n",
              "    }\n",
              "\n",
              "    [theme=dark] .colab-df-convert {\n",
              "      background-color: #3B4455;\n",
              "      fill: #D2E3FC;\n",
              "    }\n",
              "\n",
              "    [theme=dark] .colab-df-convert:hover {\n",
              "      background-color: #434B5C;\n",
              "      box-shadow: 0px 1px 3px 1px rgba(0, 0, 0, 0.15);\n",
              "      filter: drop-shadow(0px 1px 2px rgba(0, 0, 0, 0.3));\n",
              "      fill: #FFFFFF;\n",
              "    }\n",
              "  </style>\n",
              "\n",
              "    <script>\n",
              "      const buttonEl =\n",
              "        document.querySelector('#df-31453542-4b28-4803-8dcc-c355da42680e button.colab-df-convert');\n",
              "      buttonEl.style.display =\n",
              "        google.colab.kernel.accessAllowed ? 'block' : 'none';\n",
              "\n",
              "      async function convertToInteractive(key) {\n",
              "        const element = document.querySelector('#df-31453542-4b28-4803-8dcc-c355da42680e');\n",
              "        const dataTable =\n",
              "          await google.colab.kernel.invokeFunction('convertToInteractive',\n",
              "                                                    [key], {});\n",
              "        if (!dataTable) return;\n",
              "\n",
              "        const docLinkHtml = 'Like what you see? Visit the ' +\n",
              "          '<a target=\"_blank\" href=https://colab.research.google.com/notebooks/data_table.ipynb>data table notebook</a>'\n",
              "          + ' to learn more about interactive tables.';\n",
              "        element.innerHTML = '';\n",
              "        dataTable['output_type'] = 'display_data';\n",
              "        await google.colab.output.renderOutput(dataTable, element);\n",
              "        const docLink = document.createElement('div');\n",
              "        docLink.innerHTML = docLinkHtml;\n",
              "        element.appendChild(docLink);\n",
              "      }\n",
              "    </script>\n",
              "  </div>\n",
              "\n",
              "\n",
              "<div id=\"df-17ae395b-2625-4b37-bced-259408af411c\">\n",
              "  <button class=\"colab-df-quickchart\" onclick=\"quickchart('df-17ae395b-2625-4b37-bced-259408af411c')\"\n",
              "            title=\"Suggest charts\"\n",
              "            style=\"display:none;\">\n",
              "\n",
              "<svg xmlns=\"http://www.w3.org/2000/svg\" height=\"24px\"viewBox=\"0 0 24 24\"\n",
              "     width=\"24px\">\n",
              "    <g>\n",
              "        <path d=\"M19 3H5c-1.1 0-2 .9-2 2v14c0 1.1.9 2 2 2h14c1.1 0 2-.9 2-2V5c0-1.1-.9-2-2-2zM9 17H7v-7h2v7zm4 0h-2V7h2v10zm4 0h-2v-4h2v4z\"/>\n",
              "    </g>\n",
              "</svg>\n",
              "  </button>\n",
              "\n",
              "<style>\n",
              "  .colab-df-quickchart {\n",
              "      --bg-color: #E8F0FE;\n",
              "      --fill-color: #1967D2;\n",
              "      --hover-bg-color: #E2EBFA;\n",
              "      --hover-fill-color: #174EA6;\n",
              "      --disabled-fill-color: #AAA;\n",
              "      --disabled-bg-color: #DDD;\n",
              "  }\n",
              "\n",
              "  [theme=dark] .colab-df-quickchart {\n",
              "      --bg-color: #3B4455;\n",
              "      --fill-color: #D2E3FC;\n",
              "      --hover-bg-color: #434B5C;\n",
              "      --hover-fill-color: #FFFFFF;\n",
              "      --disabled-bg-color: #3B4455;\n",
              "      --disabled-fill-color: #666;\n",
              "  }\n",
              "\n",
              "  .colab-df-quickchart {\n",
              "    background-color: var(--bg-color);\n",
              "    border: none;\n",
              "    border-radius: 50%;\n",
              "    cursor: pointer;\n",
              "    display: none;\n",
              "    fill: var(--fill-color);\n",
              "    height: 32px;\n",
              "    padding: 0;\n",
              "    width: 32px;\n",
              "  }\n",
              "\n",
              "  .colab-df-quickchart:hover {\n",
              "    background-color: var(--hover-bg-color);\n",
              "    box-shadow: 0 1px 2px rgba(60, 64, 67, 0.3), 0 1px 3px 1px rgba(60, 64, 67, 0.15);\n",
              "    fill: var(--button-hover-fill-color);\n",
              "  }\n",
              "\n",
              "  .colab-df-quickchart-complete:disabled,\n",
              "  .colab-df-quickchart-complete:disabled:hover {\n",
              "    background-color: var(--disabled-bg-color);\n",
              "    fill: var(--disabled-fill-color);\n",
              "    box-shadow: none;\n",
              "  }\n",
              "\n",
              "  .colab-df-spinner {\n",
              "    border: 2px solid var(--fill-color);\n",
              "    border-color: transparent;\n",
              "    border-bottom-color: var(--fill-color);\n",
              "    animation:\n",
              "      spin 1s steps(1) infinite;\n",
              "  }\n",
              "\n",
              "  @keyframes spin {\n",
              "    0% {\n",
              "      border-color: transparent;\n",
              "      border-bottom-color: var(--fill-color);\n",
              "      border-left-color: var(--fill-color);\n",
              "    }\n",
              "    20% {\n",
              "      border-color: transparent;\n",
              "      border-left-color: var(--fill-color);\n",
              "      border-top-color: var(--fill-color);\n",
              "    }\n",
              "    30% {\n",
              "      border-color: transparent;\n",
              "      border-left-color: var(--fill-color);\n",
              "      border-top-color: var(--fill-color);\n",
              "      border-right-color: var(--fill-color);\n",
              "    }\n",
              "    40% {\n",
              "      border-color: transparent;\n",
              "      border-right-color: var(--fill-color);\n",
              "      border-top-color: var(--fill-color);\n",
              "    }\n",
              "    60% {\n",
              "      border-color: transparent;\n",
              "      border-right-color: var(--fill-color);\n",
              "    }\n",
              "    80% {\n",
              "      border-color: transparent;\n",
              "      border-right-color: var(--fill-color);\n",
              "      border-bottom-color: var(--fill-color);\n",
              "    }\n",
              "    90% {\n",
              "      border-color: transparent;\n",
              "      border-bottom-color: var(--fill-color);\n",
              "    }\n",
              "  }\n",
              "</style>\n",
              "\n",
              "  <script>\n",
              "    async function quickchart(key) {\n",
              "      const quickchartButtonEl =\n",
              "        document.querySelector('#' + key + ' button');\n",
              "      quickchartButtonEl.disabled = true;  // To prevent multiple clicks.\n",
              "      quickchartButtonEl.classList.add('colab-df-spinner');\n",
              "      try {\n",
              "        const charts = await google.colab.kernel.invokeFunction(\n",
              "            'suggestCharts', [key], {});\n",
              "      } catch (error) {\n",
              "        console.error('Error during call to suggestCharts:', error);\n",
              "      }\n",
              "      quickchartButtonEl.classList.remove('colab-df-spinner');\n",
              "      quickchartButtonEl.classList.add('colab-df-quickchart-complete');\n",
              "    }\n",
              "    (() => {\n",
              "      let quickchartButtonEl =\n",
              "        document.querySelector('#df-17ae395b-2625-4b37-bced-259408af411c button');\n",
              "      quickchartButtonEl.style.display =\n",
              "        google.colab.kernel.accessAllowed ? 'block' : 'none';\n",
              "    })();\n",
              "  </script>\n",
              "</div>\n",
              "\n",
              "    </div>\n",
              "  </div>\n"
            ],
            "application/vnd.google.colaboratory.intrinsic+json": {
              "type": "dataframe",
              "variable_name": "reviews_df"
            }
          },
          "metadata": {},
          "execution_count": 34
        }
      ]
    },
    {
      "cell_type": "code",
      "source": [
        "# Assuming ratings of 4 and above are positive, and below 4 are negative\n",
        "positive_reviews = reviews_df[reviews_df['reviews.rating'] >= 4].shape[0]\n",
        "negative_reviews = reviews_df[reviews_df['reviews.rating'] < 4].shape[0]\n",
        "\n",
        "print(f\"Number of positive reviews: {positive_reviews}\")\n",
        "print(f\"Number of negative reviews: {negative_reviews}\")\n"
      ],
      "metadata": {
        "colab": {
          "base_uri": "https://localhost:8080/"
        },
        "id": "NNtJ2ktwSamK",
        "outputId": "a05b1a25-15c5-4026-e80a-bc727198d21f"
      },
      "execution_count": null,
      "outputs": [
        {
          "output_type": "stream",
          "name": "stdout",
          "text": [
            "Number of positive reviews: 977\n",
            "Number of negative reviews: 200\n"
          ]
        }
      ]
    },
    {
      "cell_type": "code",
      "source": [
        "reviews_text = reviews_df['reviews.text'].dropna()  # Extract the reviews.text column\n",
        "reviews_text.head()"
      ],
      "metadata": {
        "colab": {
          "base_uri": "https://localhost:8080/",
          "height": 241
        },
        "id": "sMIs-Ec9SR_f",
        "outputId": "81df3688-3171-4ae8-98ee-7d3080cc3106"
      },
      "execution_count": null,
      "outputs": [
        {
          "output_type": "execute_result",
          "data": {
            "text/plain": [
              "0    I initially had trouble deciding between the p...\n",
              "1    Allow me to preface this with a little history...\n",
              "2    I am enjoying it so far. Great for reading. Ha...\n",
              "3    I bought one of the first Paperwhites and have...\n",
              "4    I have to say upfront - I don't like coroporat...\n",
              "Name: reviews.text, dtype: object"
            ],
            "text/html": [
              "<div>\n",
              "<style scoped>\n",
              "    .dataframe tbody tr th:only-of-type {\n",
              "        vertical-align: middle;\n",
              "    }\n",
              "\n",
              "    .dataframe tbody tr th {\n",
              "        vertical-align: top;\n",
              "    }\n",
              "\n",
              "    .dataframe thead th {\n",
              "        text-align: right;\n",
              "    }\n",
              "</style>\n",
              "<table border=\"1\" class=\"dataframe\">\n",
              "  <thead>\n",
              "    <tr style=\"text-align: right;\">\n",
              "      <th></th>\n",
              "      <th>reviews.text</th>\n",
              "    </tr>\n",
              "  </thead>\n",
              "  <tbody>\n",
              "    <tr>\n",
              "      <th>0</th>\n",
              "      <td>I initially had trouble deciding between the p...</td>\n",
              "    </tr>\n",
              "    <tr>\n",
              "      <th>1</th>\n",
              "      <td>Allow me to preface this with a little history...</td>\n",
              "    </tr>\n",
              "    <tr>\n",
              "      <th>2</th>\n",
              "      <td>I am enjoying it so far. Great for reading. Ha...</td>\n",
              "    </tr>\n",
              "    <tr>\n",
              "      <th>3</th>\n",
              "      <td>I bought one of the first Paperwhites and have...</td>\n",
              "    </tr>\n",
              "    <tr>\n",
              "      <th>4</th>\n",
              "      <td>I have to say upfront - I don't like coroporat...</td>\n",
              "    </tr>\n",
              "  </tbody>\n",
              "</table>\n",
              "</div><br><label><b>dtype:</b> object</label>"
            ]
          },
          "metadata": {},
          "execution_count": 35
        }
      ]
    },
    {
      "cell_type": "code",
      "source": [
        "# text cleaning function\n",
        "def clean_text(text):\n",
        "    # Lowercase the text\n",
        "    text = text.lower()\n",
        "\n",
        "    # Remove punctuation\n",
        "    text = text.translate(str.maketrans('', '', string.punctuation))\n",
        "\n",
        "    # Remove stopwords\n",
        "    stop_words = set(stopwords.words('english'))\n",
        "    text = ' '.join([word for word in text.split() if word not in stop_words])\n",
        "\n",
        "    return text"
      ],
      "metadata": {
        "id": "2gKRHr9oV9jD"
      },
      "execution_count": null,
      "outputs": []
    },
    {
      "cell_type": "code",
      "source": [
        "reviews_cleaned = reviews_text.apply(clean_text) # Apply the cleaning function to the reviews\n",
        "\n",
        "print(reviews_cleaned.head()) #Display a few cleaned reviews to verify"
      ],
      "metadata": {
        "colab": {
          "base_uri": "https://localhost:8080/"
        },
        "id": "zeXEKEnFWBrj",
        "outputId": "d653862c-7719-4671-8849-85d502250c88"
      },
      "execution_count": null,
      "outputs": [
        {
          "output_type": "stream",
          "name": "stdout",
          "text": [
            "0    initially trouble deciding paperwhite voyage r...\n",
            "1    allow preface little history casual reader own...\n",
            "2    enjoying far great reading original fire since...\n",
            "3    bought one first paperwhites pleased constant ...\n",
            "4    say upfront dont like coroporate hermetically ...\n",
            "Name: reviews.text, dtype: object\n"
          ]
        }
      ]
    },
    {
      "cell_type": "code",
      "source": [
        "from sklearn.feature_extraction.text import TfidfVectorizer # Import TF-IDF vectorizer from sklearn\n",
        "import numpy as np\n",
        "\n",
        "tfidf_vectorizer = TfidfVectorizer(max_features=5000, ngram_range=(1, 2))  # Initialized the TF-IDF Vectorizer with ngram_range (unigrams + bigrams)\n",
        "\n",
        "X = tfidf_vectorizer.fit_transform(reviews_cleaned) #Applied TF-IDF to the cleaned reviews\n",
        "\n",
        "# Getting feature names and convert to DataFrame for TF-IDF scores\n",
        "feature_names = tfidf_vectorizer.get_feature_names_out()\n",
        "tfidf_df = pd.DataFrame(X.toarray(), columns=feature_names)\n",
        "\n",
        "# Displaying the first 15 rows of the TF-IDF matrix (words as columns)\n",
        "tfidf_scores = tfidf_df.iloc[0:15]\n",
        "print(tfidf_scores)"
      ],
      "metadata": {
        "colab": {
          "base_uri": "https://localhost:8080/"
        },
        "id": "hnB5LH_NBUth",
        "outputId": "1cfc8052-69c9-40bd-e02f-97efbe720542"
      },
      "execution_count": null,
      "outputs": [
        {
          "output_type": "stream",
          "name": "stdout",
          "text": [
            "     10  100  100 headphones  100 would  1080p  1080p 1920x1080  \\\n",
            "0   0.0  0.0             0.0        0.0    0.0              0.0   \n",
            "1   0.0  0.0             0.0        0.0    0.0              0.0   \n",
            "2   0.0  0.0             0.0        0.0    0.0              0.0   \n",
            "3   0.0  0.0             0.0        0.0    0.0              0.0   \n",
            "4   0.0  0.0             0.0        0.0    0.0              0.0   \n",
            "5   0.0  0.0             0.0        0.0    0.0              0.0   \n",
            "6   0.0  0.0             0.0        0.0    0.0              0.0   \n",
            "7   0.0  0.0             0.0        0.0    0.0              0.0   \n",
            "8   0.0  0.0             0.0        0.0    0.0              0.0   \n",
            "9   0.0  0.0             0.0        0.0    0.0              0.0   \n",
            "10  0.0  0.0             0.0        0.0    0.0              0.0   \n",
            "11  0.0  0.0             0.0        0.0    0.0              0.0   \n",
            "12  0.0  0.0             0.0        0.0    0.0              0.0   \n",
            "13  0.0  0.0             0.0        0.0    0.0              0.0   \n",
            "14  0.0  0.0             0.0        0.0    0.0              0.0   \n",
            "\n",
            "    1080p contents   11  11 2013thank   12  ...  youre looking  youre reading  \\\n",
            "0              0.0  0.0           0.0  0.0  ...            0.0            0.0   \n",
            "1              0.0  0.0           0.0  0.0  ...            0.0            0.0   \n",
            "2              0.0  0.0           0.0  0.0  ...            0.0            0.0   \n",
            "3              0.0  0.0           0.0  0.0  ...            0.0            0.0   \n",
            "4              0.0  0.0           0.0  0.0  ...            0.0            0.0   \n",
            "5              0.0  0.0           0.0  0.0  ...            0.0            0.0   \n",
            "6              0.0  0.0           0.0  0.0  ...            0.0            0.0   \n",
            "7              0.0  0.0           0.0  0.0  ...            0.0            0.0   \n",
            "8              0.0  0.0           0.0  0.0  ...            0.0            0.0   \n",
            "9              0.0  0.0           0.0  0.0  ...            0.0            0.0   \n",
            "10             0.0  0.0           0.0  0.0  ...            0.0            0.0   \n",
            "11             0.0  0.0           0.0  0.0  ...            0.0            0.0   \n",
            "12             0.0  0.0           0.0  0.0  ...            0.0            0.0   \n",
            "13             0.0  0.0           0.0  0.0  ...            0.0            0.0   \n",
            "14             0.0  0.0           0.0  0.0  ...            0.0            0.0   \n",
            "\n",
            "    youre thinking  youre watching  youread  youtube  youtube hdx  \\\n",
            "0              0.0             0.0      0.0      0.0          0.0   \n",
            "1              0.0             0.0      0.0      0.0          0.0   \n",
            "2              0.0             0.0      0.0      0.0          0.0   \n",
            "3              0.0             0.0      0.0      0.0          0.0   \n",
            "4              0.0             0.0      0.0      0.0          0.0   \n",
            "5              0.0             0.0      0.0      0.0          0.0   \n",
            "6              0.0             0.0      0.0      0.0          0.0   \n",
            "7              0.0             0.0      0.0      0.0          0.0   \n",
            "8              0.0             0.0      0.0      0.0          0.0   \n",
            "9              0.0             0.0      0.0      0.0          0.0   \n",
            "10             0.0             0.0      0.0      0.0          0.0   \n",
            "11             0.0             0.0      0.0      0.0          0.0   \n",
            "12             0.0             0.0      0.0      0.0          0.0   \n",
            "13             0.0             0.0      0.0      0.0          0.0   \n",
            "14             0.0             0.0      0.0      0.0          0.0   \n",
            "\n",
            "    youtube video  youtube videos     youve  \n",
            "0             0.0             0.0  0.000000  \n",
            "1             0.0             0.0  0.000000  \n",
            "2             0.0             0.0  0.000000  \n",
            "3             0.0             0.0  0.000000  \n",
            "4             0.0             0.0  0.000000  \n",
            "5             0.0             0.0  0.000000  \n",
            "6             0.0             0.0  0.000000  \n",
            "7             0.0             0.0  0.000000  \n",
            "8             0.0             0.0  0.000000  \n",
            "9             0.0             0.0  0.000000  \n",
            "10            0.0             0.0  0.000000  \n",
            "11            0.0             0.0  0.000000  \n",
            "12            0.0             0.0  0.000000  \n",
            "13            0.0             0.0  0.000000  \n",
            "14            0.0             0.0  0.043742  \n",
            "\n",
            "[15 rows x 5000 columns]\n"
          ]
        }
      ]
    },
    {
      "cell_type": "code",
      "source": [
        "# Displaying detailed TF-IDF scores for a specific document (review)\n",
        "document_index = 0\n",
        "\n",
        "# Getting the non-zero indices and their corresponding scores for the selected document\n",
        "non_zero_indices = X[document_index].nonzero()[1]\n",
        "tfidf_scores_for_doc = zip(non_zero_indices, [X[document_index, x] for x in non_zero_indices])\n",
        "\n",
        "# Creating a DataFrame to display the words and their associated TF-IDF scores\n",
        "tfidf_scores_df = pd.DataFrame(\n",
        "    [(feature_names[i], score) for (i, score) in tfidf_scores_for_doc],\n",
        "    columns=[\"Word\", \"TF-IDF Score\"]\n",
        ").sort_values(by=\"TF-IDF Score\", ascending=False)\n",
        "\n",
        "# Display the TF-IDF scores for the chosen document\n",
        "print(\"TF-IDF scores for document index\", document_index)\n",
        "print(tfidf_scores_df)"
      ],
      "metadata": {
        "colab": {
          "base_uri": "https://localhost:8080/"
        },
        "id": "kaUdcKn-F263",
        "outputId": "9e00cfc6-1dc1-46ce-eec8-0ce97fdbaf38"
      },
      "execution_count": null,
      "outputs": [
        {
          "output_type": "stream",
          "name": "stdout",
          "text": [
            "TF-IDF scores for document index 0\n",
            "          Word  TF-IDF Score\n",
            "33     setting      0.348362\n",
            "3   paperwhite      0.306543\n",
            "73    time day      0.249799\n",
            "36       light      0.238086\n",
            "57    shipping      0.207123\n",
            "..         ...           ...\n",
            "41        easy      0.050060\n",
            "34        dont      0.046470\n",
            "42         use      0.041079\n",
            "9        great      0.039823\n",
            "59      amazon      0.037256\n",
            "\n",
            "[75 rows x 2 columns]\n"
          ]
        }
      ]
    },
    {
      "cell_type": "code",
      "source": [
        "'''\n",
        "I don't have a Sentiment column in my dataset. Instead, I have a reviews.rating column, which gives a numeric rating (1 to 5) for the product.\n",
        "In my case:\n",
        "ratings 1 and 2 can be considered negative sentiment (dissatisfied customers).\n",
        "ratings 4 and 5 can be considered positive sentiment (satisfied customers).\n",
        "rating 3 can be considered neutral, or I can ignore it for binary sentiment analysis.\n",
        "'''\n",
        "y = reviews_df['reviews.rating'].apply(lambda x: 1 if x >= 4 else 0 if x <= 2 else None) # Created binary sentiment labels from ratings\n",
        "\n",
        "# Droped rows with neutral rating (3)\n",
        "X = X[y.notnull()]\n",
        "y = y.dropna()"
      ],
      "metadata": {
        "id": "soXAw5UTCbQ-"
      },
      "execution_count": null,
      "outputs": []
    },
    {
      "cell_type": "code",
      "source": [
        "from sklearn.model_selection import train_test_split\n",
        "\n",
        "# Splitting the data into training and testing sets\n",
        "X_train, X_test, y_train, y_test = train_test_split(X, y, test_size=0.2, random_state=42)"
      ],
      "metadata": {
        "id": "s3rs3voyegTo"
      },
      "execution_count": null,
      "outputs": []
    },
    {
      "cell_type": "code",
      "source": [
        "from sklearn.linear_model import LogisticRegression\n",
        "from sklearn.metrics import accuracy_score, precision_score, recall_score, f1_score\n",
        "\n",
        "# Initializing and training the Logistic Regression model\n",
        "logreg = LogisticRegression(max_iter=1000)  # Increase max_iter if needed\n",
        "logreg.fit(X_train, y_train)\n",
        "\n",
        "# Makeing predictions on the test set\n",
        "y_pred = logreg.predict(X_test)\n",
        "\n",
        "# Evaluateing the model\n",
        "accuracy = accuracy_score(y_test, y_pred)\n",
        "precision = precision_score(y_test, y_pred)\n",
        "recall = recall_score(y_test, y_pred)\n",
        "f1 = f1_score(y_test, y_pred)\n",
        "\n",
        "# =Printing the evaluation metrics\n",
        "print(f'Accuracy: {accuracy:.2f}')\n",
        "print(f'Precision: {precision:.2f}')\n",
        "print(f'Recall: {recall:.2f}')\n",
        "print(f'F1-Score: {f1:.2f}')"
      ],
      "metadata": {
        "colab": {
          "base_uri": "https://localhost:8080/"
        },
        "id": "40yL6TFsucAh",
        "outputId": "31cb06ad-e00c-4f47-8fe1-133f12ddb286"
      },
      "execution_count": null,
      "outputs": [
        {
          "output_type": "stream",
          "name": "stdout",
          "text": [
            "Accuracy: 0.94\n",
            "Precision: 0.94\n",
            "Recall: 1.00\n",
            "F1-Score: 0.97\n"
          ]
        }
      ]
    },
    {
      "cell_type": "code",
      "source": [
        "# Evan though the metrix are very good, I want to try SVm and GXBoost\n",
        "#SVM\n",
        "from sklearn.svm import SVC\n",
        "from sklearn.metrics import accuracy_score, precision_score, recall_score, f1_score\n",
        "from sklearn.model_selection import train_test_split\n",
        "\n",
        "# Step 1: Splitting the data into training and testing sets (if not already done)\n",
        "X_train, X_test, y_train, y_test = train_test_split(X, y, test_size=0.2, random_state=42)\n",
        "\n",
        "# Step 2: Initialize and train the SVM model\n",
        "svm_model = SVC(kernel='linear')  # Using a linear kernel\n",
        "svm_model.fit(X_train, y_train)\n",
        "\n",
        "# Step 3: Make predictions using the SVM model\n",
        "y_pred_svm = svm_model.predict(X_test)\n",
        "\n",
        "# Step 4: Evaluate SVM model performance\n",
        "accuracy_svm = accuracy_score(y_test, y_pred_svm)\n",
        "precision_svm = precision_score(y_test, y_pred_svm)\n",
        "recall_svm = recall_score(y_test, y_pred_svm)\n",
        "f1_svm = f1_score(y_test, y_pred_svm)\n",
        "\n",
        "# Step 5: Print SVM evaluation metrics\n",
        "print(\"SVM Model Performance:\")\n",
        "print(f'Accuracy: {accuracy_svm:.2f}')\n",
        "print(f'Precision: {precision_svm:.2f}')\n",
        "print(f'Recall: {recall_svm:.2f}')\n",
        "print(f'F1-Score: {f1_svm:.2f}')"
      ],
      "metadata": {
        "colab": {
          "base_uri": "https://localhost:8080/"
        },
        "id": "fqULgHetH-P2",
        "outputId": "d94eaa29-aa9c-484b-ce1f-4922de08efc8"
      },
      "execution_count": null,
      "outputs": [
        {
          "output_type": "stream",
          "name": "stdout",
          "text": [
            "SVM Model Performance:\n",
            "Accuracy: 0.95\n",
            "Precision: 0.95\n",
            "Recall: 1.00\n",
            "F1-Score: 0.98\n"
          ]
        }
      ]
    },
    {
      "cell_type": "code",
      "source": [
        "!pip install xgboost"
      ],
      "metadata": {
        "colab": {
          "base_uri": "https://localhost:8080/"
        },
        "id": "XlT1vDeWI0os",
        "outputId": "90876826-9e1b-4d97-af42-cd0a2ec55df2"
      },
      "execution_count": null,
      "outputs": [
        {
          "output_type": "stream",
          "name": "stdout",
          "text": [
            "Requirement already satisfied: xgboost in /usr/local/lib/python3.10/dist-packages (2.1.1)\n",
            "Requirement already satisfied: numpy in /usr/local/lib/python3.10/dist-packages (from xgboost) (1.26.4)\n",
            "Requirement already satisfied: nvidia-nccl-cu12 in /usr/local/lib/python3.10/dist-packages (from xgboost) (2.23.4)\n",
            "Requirement already satisfied: scipy in /usr/local/lib/python3.10/dist-packages (from xgboost) (1.13.1)\n"
          ]
        }
      ]
    },
    {
      "cell_type": "code",
      "source": [
        "from xgboost import XGBClassifier\n",
        "from sklearn.metrics import accuracy_score, precision_score, recall_score, f1_score\n",
        "from sklearn.model_selection import train_test_split\n",
        "\n",
        "# Step 1: Splitting the data into training and testing sets (if not already done)\n",
        "X_train, X_test, y_train, y_test = train_test_split(X, y, test_size=0.2, random_state=42)\n",
        "\n",
        "# Step 2: Initialize and train the XGBoost model\n",
        "xgb_model = XGBClassifier(use_label_encoder=False, eval_metric='logloss')\n",
        "xgb_model.fit(X_train, y_train)\n",
        "\n",
        "# Step 3: Make predictions using the XGBoost model\n",
        "y_pred_xgb = xgb_model.predict(X_test)\n",
        "\n",
        "# Step 4: Evaluate XGBoost model performance\n",
        "accuracy_xgb = accuracy_score(y_test, y_pred_xgb)\n",
        "precision_xgb = precision_score(y_test, y_pred_xgb)\n",
        "recall_xgb = recall_score(y_test, y_pred_xgb)\n",
        "f1_xgb = f1_score(y_test, y_pred_xgb)\n",
        "\n",
        "# Step 5: Print XGBoost evaluation metrics\n",
        "print(\"XGBoost Model Performance:\")\n",
        "print(f'Accuracy: {accuracy_xgb:.2f}')\n",
        "print(f'Precision: {precision_xgb:.2f}')\n",
        "print(f'Recall: {recall_xgb:.2f}')\n",
        "print(f'F1-Score: {f1_xgb:.2f}')\n"
      ],
      "metadata": {
        "colab": {
          "base_uri": "https://localhost:8080/"
        },
        "id": "ayC86AedIhsH",
        "outputId": "1c8a0802-d61f-404e-c0cd-fe3d945f8609"
      },
      "execution_count": null,
      "outputs": [
        {
          "output_type": "stream",
          "name": "stderr",
          "text": [
            "/usr/local/lib/python3.10/dist-packages/xgboost/core.py:158: UserWarning: [20:06:04] WARNING: /workspace/src/learner.cc:740: \n",
            "Parameters: { \"use_label_encoder\" } are not used.\n",
            "\n",
            "  warnings.warn(smsg, UserWarning)\n"
          ]
        },
        {
          "output_type": "stream",
          "name": "stdout",
          "text": [
            "XGBoost Model Performance:\n",
            "Accuracy: 0.92\n",
            "Precision: 0.95\n",
            "Recall: 0.97\n",
            "F1-Score: 0.96\n"
          ]
        }
      ]
    },
    {
      "cell_type": "code",
      "source": [
        "#Now, I am adding confusion Matrix for each model\n",
        "\n",
        "# Logistic Regression Confusion Matrix\n",
        "from sklearn.metrics import confusion_matrix\n",
        "import matplotlib.pyplot as plt\n",
        "import seaborn as sns\n",
        "\n",
        "# Generating and plotting the confusion matrix for the Logistic Regression model\n",
        "conf_matrix_lr = confusion_matrix(y_test, y_pred)\n",
        "plt.figure(figsize=(8, 6))\n",
        "sns.heatmap(conf_matrix_lr, annot=True, fmt='d', cmap='Blues')\n",
        "plt.title(\"Confusion Matrix - Logistic Regression\")\n",
        "plt.xlabel('Predicted Label')\n",
        "plt.ylabel('True Label')\n",
        "plt.show()"
      ],
      "metadata": {
        "colab": {
          "base_uri": "https://localhost:8080/",
          "height": 564
        },
        "id": "rMiv-sMEJ7VL",
        "outputId": "66ae2606-9463-4d5e-b7ff-95781a759e08"
      },
      "execution_count": null,
      "outputs": [
        {
          "output_type": "display_data",
          "data": {
            "text/plain": [
              "<Figure size 800x600 with 2 Axes>"
            ],
            "image/png": "[encoded data removed]"
          },
          "metadata": {}
        }
      ]
    },
    {
      "cell_type": "code",
      "source": [
        "# Confusion Matrix for SVM\n",
        "\n",
        "conf_matrix_svm = confusion_matrix(y_test, y_pred_svm)\n",
        "plt.figure(figsize=(8, 6))\n",
        "sns.heatmap(conf_matrix_svm, annot=True, fmt='d', cmap='Blues')\n",
        "plt.title(\"Confusion Matrix - SVM\")\n",
        "plt.xlabel('Predicted Label')\n",
        "plt.ylabel('True Label')\n",
        "plt.show()"
      ],
      "metadata": {
        "colab": {
          "base_uri": "https://localhost:8080/",
          "height": 564
        },
        "id": "d0K07E8WKJSs",
        "outputId": "977fd9d4-0e77-455d-aed6-1649387e3671"
      },
      "execution_count": null,
      "outputs": [
        {
          "output_type": "display_data",
          "data": {
            "text/plain": [
              "<Figure size 800x600 with 2 Axes>"
            ],
            "image/png": "[encoded data removed]"
          },
          "metadata": {}
        }
      ]
    },
    {
      "cell_type": "code",
      "source": [
        "# Confusion Matrix for XGBoost:\n",
        "\n",
        "conf_matrix_xgb = confusion_matrix(y_test, y_pred_xgb)\n",
        "plt.figure(figsize=(8, 6))\n",
        "sns.heatmap(conf_matrix_xgb, annot=True, fmt='d', cmap='Blues')\n",
        "plt.title(\"Confusion Matrix - XGBoost\")\n",
        "plt.xlabel('Predicted Label')\n",
        "plt.ylabel('True Label')\n",
        "plt.show()\n"
      ],
      "metadata": {
        "colab": {
          "base_uri": "https://localhost:8080/",
          "height": 564
        },
        "id": "9AUnCi1lKnlq",
        "outputId": "6410b40d-0c4b-4e05-a5f0-3b0cac91ed5f"
      },
      "execution_count": null,
      "outputs": [
        {
          "output_type": "display_data",
          "data": {
            "text/plain": [
              "<Figure size 800x600 with 2 Axes>"
            ],
            "image/png": "[encoded data removed]"
          },
          "metadata": {}
        }
      ]
    }
  ]
}